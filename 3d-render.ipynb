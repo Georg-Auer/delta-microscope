{
 "nbformat": 4,
 "nbformat_minor": 2,
 "metadata": {
  "language_info": {
   "name": "python",
   "codemirror_mode": {
    "name": "ipython",
    "version": 3
   },
   "version": "3.9.5"
  },
  "orig_nbformat": 2,
  "file_extension": ".py",
  "mimetype": "text/x-python",
  "name": "python",
  "npconvert_exporter": "python",
  "pygments_lexer": "ipython3",
  "version": 3,
  "kernelspec": {
   "name": "python3",
   "display_name": "Python 3.9.5 64-bit"
  },
  "interpreter": {
   "hash": "ce1e901da04acbe50dd99cd0d91cb411cb2166c3507dec81ce620981a8df4741"
  }
 },
 "cells": [
  {
   "cell_type": "code",
   "execution_count": 55,
   "metadata": {},
   "outputs": [
    {
     "output_type": "display_data",
     "data": {
      "text/plain": "Renderer(camera=PerspectiveCamera(aspect=1.5, position=(400.0, 0.0, 0.0), projectionMatrix=(1.0, 0.0, 0.0, 0.0…",
      "application/vnd.jupyter.widget-view+json": {
       "version_major": 2,
       "version_minor": 0,
       "model_id": "3cf1004c718c4b499f27ee34e8dc5c75"
      }
     },
     "metadata": {}
    }
   ],
   "source": [
    "from pythreejs import *\n",
    "import ipywidgets\n",
    "from IPython.display import display\n",
    "\n",
    "from stl import mesh #pip install numpy-stl\n",
    "\n",
    "view_width = 600\n",
    "view_height = 400\n",
    "\n",
    "#testsphere\n",
    "# object_for_viewing = Mesh(\n",
    "#     SphereBufferGeometry(1, 32, 16),\n",
    "#     MeshStandardMaterial(color='red')\n",
    "# )\n",
    "\n",
    "# stl import\n",
    "your_mesh = mesh.Mesh.from_file('files/3d/openscad-microscope.stl')\n",
    "vertices = BufferAttribute(array=your_mesh.vectors, normalized=False)\n",
    "geometry = BufferGeometry( attributes={'position': vertices}, )\n",
    "\n",
    "object_for_viewing = Mesh(\n",
    "    geometry,\n",
    "    MeshStandardMaterial(color='green')\n",
    ")\n",
    "\n",
    "# camera = PerspectiveCamera( position=[10, 6, 10], aspect=view_width/view_height)\n",
    "# key_light = DirectionalLight(position=[0, 10, 10])\n",
    "# ambient_light = AmbientLight()\n",
    "\n",
    "camera = PerspectiveCamera( position=[400, 0, 0], aspect=view_width/view_height)\n",
    "key_light = DirectionalLight(color=\"#ffffff\", intensity=3)\n",
    "\n",
    "# key_light = pythreejs.DirectionalLight(\n",
    "#     intensity=0.6,\n",
    "#     position=[20., -20., 10.],\n",
    "#     castShadow=True,\n",
    "#     color='red',\n",
    "# )\n",
    "\n",
    "ambient_light = AmbientLight(color=\"#ffffff\", intensity=1)\n",
    "\n",
    "positon_track = VectorKeyframeTrack(name='.position',\n",
    "    times=[0, 2, 5],\n",
    "    values=[400, 0, 0,\n",
    "            6.3, 3.78, 6.3,\n",
    "            -2.98, 0.84, 9.2,\n",
    "           ])\n",
    "rotation_track = QuaternionKeyframeTrack(name='.quaternion',\n",
    "    times=[0, 2, 5],\n",
    "    values=[-0.184, 0.375, 0.0762, 0.905,\n",
    "            -0.184, 0.375, 0.0762, 0.905,\n",
    "            -0.0430, -0.156, -0.00681, 0.987,\n",
    "           ])\n",
    "camera_clip = AnimationClip(tracks=[positon_track, rotation_track])\n",
    "camera_action = AnimationAction(AnimationMixer(camera), camera_clip, camera)\n",
    "\n",
    "scene = Scene(children=[object_for_viewing, key_light, ambient_light])\n",
    "controller = OrbitControls(controlling=camera)\n",
    "renderer = Renderer(camera=camera, scene=scene, controls=[controller],\n",
    "                    width=view_width, height=view_height)\n",
    "\n",
    "renderer"
   ]
  },
  {
   "cell_type": "code",
   "execution_count": null,
   "metadata": {},
   "outputs": [],
   "source": []
  }
 ]
}