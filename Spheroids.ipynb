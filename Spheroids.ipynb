{
 "nbformat": 4,
 "nbformat_minor": 2,
 "metadata": {
  "language_info": {
   "name": "python",
   "codemirror_mode": {
    "name": "ipython",
    "version": 3
   },
   "version": "3.9.5"
  },
  "orig_nbformat": 2,
  "file_extension": ".py",
  "mimetype": "text/x-python",
  "name": "python",
  "npconvert_exporter": "python",
  "pygments_lexer": "ipython3",
  "version": 3,
  "kernelspec": {
   "name": "python3",
   "display_name": "Python 3.9.5 64-bit"
  },
  "interpreter": {
   "hash": "ce1e901da04acbe50dd99cd0d91cb411cb2166c3507dec81ce620981a8df4741"
  }
 },
 "cells": [
  {
   "source": [
    "from stl import mesh #pip install numpy-stl\n",
    "from pythreejs import * #pip install pythreejs\n",
    "from IPython.display import display\n",
    "\n",
    "# Load the STL files and add the vectors to the plot\n",
    "your_mesh = mesh.Mesh.from_file('files/3d/openscad-microscope.stl')\n",
    "\n",
    "vertices = BufferAttribute(array=your_mesh.vectors, normalized=False)\n",
    "\n",
    "geometry = BufferGeometry( attributes={'position': vertices}, )"
   ],
   "cell_type": "code",
   "metadata": {},
   "execution_count": 11,
   "outputs": []
  },
  {
   "cell_type": "markdown",
   "metadata": {},
   "source": [
    "# Spheroid generation methods\n",
    "\n",
    "\n",
    "\n",
    "Weniger anfälligkeit gegenüber statistischem „rauschen“\n",
    "https://www.ncbi.nlm.nih.gov/pubmed/12183631\n",
    "https://www.quantamagazine.org/math-reveals-the-secrets-of-cells-feedback-circuitry-20190918/\n",
    "https://www.quantamagazine.org/biological-noise-in-an-unpredictable-world-20140522/\n",
    "\n",
    "The researchers didn’t realize it at the time, but their first design was inherently flawed. From a mathematical standpoint, unicellular organisms are very different beasts from whole creatures like cows: they are subject to statistical “noise.” Individual cells contain relatively few molecules, Khammash explained. Randomness from the probability that various molecules will meet, collide and react inside a cell comes into play much more forcefully.\n",
    "However, the monolayer platform generally overestimates drug efficiency because of the absence of physico-biochemical barriers.\n",
    "\n",
    "spheroids provide more predictive in vitro models to study fundamental cell biology, disease pathophysiology, and the identification of novel therapeutic agents.\n",
    "https://journals.sagepub.com/doi/10.1177/2472555217702448\n",
    "https://royalsocietypublishing.org/doi/10.1098/rsif.2016.0877\n",
    "\n",
    "\n",
    "## https://lsfm4life.eu/\n",
    "T1D Insulin produzierende Pankreas Organoide - im Mausmodell erfolgreich\n",
    "A remarkable amount of work was performed by Cellendes (Reutlingen), which successfully generated a biomimetic synthetic hydrogel that supports the growth of the organoids. Therefore, the goal of exchanging Matrigel (which is a hydrogel of animal origin unsuitable for clinical application) with a GMP-level hydrogel that is completely safe for human and 3R-compatible is getting closer.\n",
    "\n",
    "## Disease modelling in human organoids\n",
    "Madeline A. Lancaster1,* and Meritxell Huch\n",
    "Bone spheroids\n",
    "Although proper bone organoids have not yet been established,\n",
    "Kale et al. described a promising approach to form spheroids\n",
    "of human adult bone precursor cells (Kale et al., 2000 https://doi.org/10.1038/79439). These are\n",
    "a heterogeneous population of bone progenitors, including\n",
    "osteoblasts, that can be induced to form small pieces of crystalline\n",
    "bone called microspicules. This requires 3D aggregation of the cells\n",
    "as well as the removal of serum and addition of TGFβ1. Given that\n",
    "this approach lacks the varied cell types and tissue architecture, it\n",
    "will be interesting to see whether current improvements in 3D\n",
    "culture methods could further develop these spheroids to bona-fide\n",
    "bone organoids.\n",
    "\n",
    "Transforming growth factor beta 1 or TGF-β1\n",
    "\n",
    "## Martin, T. John -- Translational Endocrinology of Bone __ Basic Principles of Bone Cell Biology\n",
    "## on bone formation\n",
    "In the adult skeleton, bone is usually formed in\n",
    "a lamellar arrangement in which collagen fibers are\n",
    "laid in a parallel and orderly fashion. This arrangement\n",
    "is essential to the structure of the Haversian system of\n",
    "cortical bone, in which lamellar fibers are arranged\n",
    "concentrically around the central cavity (Haversian\n",
    "canal), from the center of which there is communication\n",
    "with osteocytes through the canaliculae. During bone\n",
    "development and other states of rapid bone formation,\n",
    "the collagen fiber alignment is more random; this is\n",
    "described as woven bone.\n",
    "https://en.wikipedia.org/wiki/File:Transverse_section_of_bone_en.svg\n",
    "\n",
    "Functional unit of bones: Osteon - diameter 250u m, with Haversian canal in the middle\n",
    "\n",
    "Osteoblast progenitors are associated with vascular\n",
    "structures in the marrow, and several studies suggest\n",
    "these progenitors may also give rise to cells forming\n",
    "the blood vessel and pluripotent perivascular cells\n",
    "[21e23] (Figs 2.1 and 2.3). Support for this comes\n",
    "from the use of the smooth muscle alpha-actin\n",
    "(SMAA) promoter to direct GFP to smooth muscle\n",
    "and pericytes, with strong osteogenic differentiation\n",
    "evident in cells positive for SMAA-GFP [24]. This indicates\n",
    "the capacity of SMAA to mark a population of\n",
    "osteoprogenitors, and reinforces the idea that one of\n",
    "the sources of osteoblast progenitors in bone remodeling\n",
    "is the pericyte [23].\n"
   ]
  },
  {
   "cell_type": "code",
   "execution_count": null,
   "metadata": {},
   "outputs": [],
   "source": []
  }
 ]
}